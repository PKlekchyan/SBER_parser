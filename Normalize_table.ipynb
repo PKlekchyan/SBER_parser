{
  "nbformat": 4,
  "nbformat_minor": 0,
  "metadata": {
    "colab": {
      "provenance": []
    },
    "kernelspec": {
      "name": "python3",
      "display_name": "Python 3"
    },
    "language_info": {
      "name": "python"
    }
  },
  "cells": [
    {
      "cell_type": "code",
      "execution_count": null,
      "metadata": {
        "id": "t7ixYHUu4L-D"
      },
      "outputs": [],
      "source": [
        "import pandas as pd\n",
        "import numpy as np"
      ]
    },
    {
      "cell_type": "code",
      "source": [
        "df = pd.read_html(\"./test_table.html\", encoding=\"UTF-8\")"
      ],
      "metadata": {
        "id": "nekY6O-B4Vpf"
      },
      "execution_count": null,
      "outputs": []
    },
    {
      "cell_type": "code",
      "source": [
        "## Надо нормализироват\n",
        "## Это ТИП таблицы 2 - просто \n",
        "\n",
        "df[0].head()"
      ],
      "metadata": {
        "id": "aAH-yKNU4ryt"
      },
      "execution_count": null,
      "outputs": []
    },
    {
      "cell_type": "code",
      "source": [
        "df2 = pd.read_html(\"./14_Таблицы__Волгоградская_область__.html\", encoding=\"UTF-8\")"
      ],
      "metadata": {
        "id": "UonRrGaNCZLc"
      },
      "execution_count": null,
      "outputs": []
    },
    {
      "cell_type": "code",
      "source": [
        "# ТИП ТАБЛИЦЫ\n",
        "\n",
        "type_of_tb = 0 # 0 - тип где все года в одной таблице, 1 - тип где года в разных таблицах\n",
        "\n",
        "# Какая размерность у столбца бюджетов\n",
        "\n",
        "type_of_bg = 0 # 0 - тип где столбец описан в руб. 1 - мера столбца в тыс. руб\n",
        "\n",
        "# Задаем константы для ИД таблицы\n",
        "\n",
        "NAMES_ID = 0\n",
        "CSR = []\n",
        "VR = 0\n",
        "ID_2023 = 0\n",
        "ID_2024 = 0\n",
        "ID_2025 = 0"
      ],
      "metadata": {
        "id": "BpDQUMcH1Wl9"
      },
      "execution_count": null,
      "outputs": []
    },
    {
      "cell_type": "markdown",
      "source": [
        "# ШАГ 1 - Определяем заголовки, удаляем ненужные таблицы"
      ],
      "metadata": {
        "id": "3loALmdtw9MR"
      }
    },
    {
      "cell_type": "code",
      "source": [
        "# Определяем в каких таблицах есть заголовки\n",
        "\n",
        "def myfunc(x):\n",
        "    try:\n",
        "        return int(x)\n",
        "    except:\n",
        "        return x\n",
        "\n",
        "title_index = []\n",
        "\n",
        "for ind, i in enumerate(df2):\n",
        "    flag = False\n",
        "    for j, k in i.iloc[0:1].iterrows():\n",
        "        new_arr = k.apply(lambda x: str(type(myfunc(x))))\n",
        "        new_arr = set(new_arr)\n",
        "    \n",
        "    if len(new_arr) == 1:\n",
        "        title_index.append(ind)"
      ],
      "metadata": {
        "id": "6LbqvJIPYYye"
      },
      "execution_count": null,
      "outputs": []
    },
    {
      "cell_type": "code",
      "source": [
        "print(title_index)"
      ],
      "metadata": {
        "colab": {
          "base_uri": "https://localhost:8080/"
        },
        "id": "Ah7JiAu-iUg2",
        "outputId": "f5264d1f-a5fd-4129-b0c1-796f89a84b09"
      },
      "execution_count": null,
      "outputs": [
        {
          "output_type": "stream",
          "name": "stdout",
          "text": [
            "[0]\n"
          ]
        }
      ]
    },
    {
      "cell_type": "code",
      "source": [
        "# Определяем в каких таблицах есть вид расходов\n",
        "# Если таблица с нужным заголовком не последняя, то получаем индекс следующей \n",
        "# за ней таблицей с заголовком и записываем его в переменную. Это для того, чтобы почистить хвост листа (возьмем данные от [need_title: bad_title])\n",
        "# До нужной таблицы с заголовком так же не берем\n",
        "\n",
        "\n",
        "# NAMES_ID = 0\n",
        "# CSR = 0\n",
        "# VR = 0\n",
        "# ID_2023 = 0\n",
        "# ID_2024 = 0\n",
        "# ID_2025 = 0\n",
        "\n",
        "import re\n",
        "pattern = r'ВИД\\w* РАСХОД\\w*'\n",
        "\n",
        "filter_title_index = []\n",
        "\n",
        "for m in title_index:\n",
        "    filter_title_index.append({m: False})\n",
        "\n",
        "    for i, k in df2[m].iloc[:3].iterrows():\n",
        "        for j in range(len(k)):\n",
        "            if k[j] == \"ВР\" or re.findall(pattern, str(k[j]).upper()):\n",
        "                del filter_title_index[-1]\n",
        "                filter_title_index.append({m: True})\n"
      ],
      "metadata": {
        "id": "SwR54qBCjQ1i"
      },
      "execution_count": null,
      "outputs": []
    },
    {
      "cell_type": "code",
      "source": [
        "filter_title_index"
      ],
      "metadata": {
        "colab": {
          "base_uri": "https://localhost:8080/"
        },
        "id": "zddQ92S_GPry",
        "outputId": "88fe9b24-c8c8-4e20-f368-57166d20a9b6"
      },
      "execution_count": null,
      "outputs": [
        {
          "output_type": "execute_result",
          "data": {
            "text/plain": [
              "[{0: True}]"
            ]
          },
          "metadata": {},
          "execution_count": 9
        }
      ]
    },
    {
      "cell_type": "code",
      "source": [
        "true_arr = []\n",
        "\n",
        "for i in filter_title_index:\n",
        "    for x, y in i.items():\n",
        "        if y:\n",
        "            true_arr.append(x)"
      ],
      "metadata": {
        "id": "j_D1M3AiGYCC"
      },
      "execution_count": null,
      "outputs": []
    },
    {
      "cell_type": "code",
      "source": [
        "true_arr"
      ],
      "metadata": {
        "colab": {
          "base_uri": "https://localhost:8080/"
        },
        "id": "Ogd4ESkqH89C",
        "outputId": "91278ff5-edc9-42e0-83ef-b2905621ecdf"
      },
      "execution_count": null,
      "outputs": [
        {
          "output_type": "execute_result",
          "data": {
            "text/plain": [
              "[0]"
            ]
          },
          "metadata": {},
          "execution_count": 11
        }
      ]
    },
    {
      "cell_type": "code",
      "source": [
        "# Определяем ТИП таблицы\n",
        "\n",
        "if len(true_arr) > 1:\n",
        "    type_of_tb = 1\n",
        "else:\n",
        "    type_of_tb = 0\n",
        "\n",
        "print(type_of_tb)"
      ],
      "metadata": {
        "colab": {
          "base_uri": "https://localhost:8080/"
        },
        "id": "ZN1C7bug6YE2",
        "outputId": "4d979c84-ad4f-4b6a-9d17-3587cfe94669"
      },
      "execution_count": null,
      "outputs": [
        {
          "output_type": "stream",
          "name": "stdout",
          "text": [
            "0\n"
          ]
        }
      ]
    },
    {
      "cell_type": "code",
      "source": [
        "# Пробегаемся регулярками\n",
        "\n",
        "pattern_csr = r'ЦЕЛЕВ\\w* СТАТЬ\\w*'\n",
        "pattern_vr = r'ВИД\\w* РАСХОД\\w*'\n",
        "\n",
        "def get_index(tb):\n",
        "\n",
        "    for m in tb:\n",
        "        prog = []\n",
        "        \n",
        "        for i, k in df2[m].iloc[:3].iterrows():\n",
        "            for j in range(len(k)):\n",
        "                \n",
        "                if re.findall(r'НАИМЕНОВАНИЕ', str(k[j]).upper()):\n",
        "                    global NAMES_ID\n",
        "                    NAMES_ID = j\n",
        "\n",
        "                if re.findall(r'ЦСР', str(k[j]).upper()) or re.findall(pattern_csr, str(k[j]).upper()):\n",
        "                    prog = [*prog, j]\n",
        "                    \n",
        "                if k[j] == \"ВР\" or re.findall(pattern_vr, str(k[j]).upper()):\n",
        "                    global VR \n",
        "                    VR = j\n",
        "\n",
        "                if k[j] == \"2023\" or re.findall(r'2023', str(k[j]).upper()) or re.findall(r'СУММА', str(k[j]).upper()) or re.findall(r'ИТОГО', str(k[j]).upper()):\n",
        "                    global ID_2023 \n",
        "                    ID_2023 = j\n",
        "\n",
        "                if re.findall(r'ТЫС\\w* РУБ\\w*', str(k[j]).upper()):\n",
        "                    global type_of_bg \n",
        "                    type_of_bg = 1\n",
        "\n",
        "                if k[j] == \"2024\" or re.findall(r'2024', str(k[j]).upper()):\n",
        "                    global ID_2024 \n",
        "                    ID_2024 = j\n",
        "                \n",
        "                if k[j] == \"2025\" or re.findall(r'2025', str(k[j]).upper()):\n",
        "                    global ID_2025 \n",
        "                    ID_2025 = j\n",
        "        global CSR\n",
        "        CSR.append(prog)\n",
        "    \n",
        "\n",
        "get_index(true_arr)"
      ],
      "metadata": {
        "id": "h8nHDNjg6kun"
      },
      "execution_count": null,
      "outputs": []
    },
    {
      "cell_type": "code",
      "source": [
        "print(NAMES_ID, CSR, VR, ID_2023, type_of_bg, ID_2024, ID_2025)"
      ],
      "metadata": {
        "colab": {
          "base_uri": "https://localhost:8080/"
        },
        "id": "KKCx3gUQDv6n",
        "outputId": "7d0bdbe4-e912-432c-cac3-bcd5f9a40383"
      },
      "execution_count": null,
      "outputs": [
        {
          "output_type": "stream",
          "name": "stdout",
          "text": [
            "0 [[3]] 4 5 0 6 7\n"
          ]
        }
      ]
    },
    {
      "cell_type": "code",
      "source": [
        "# Чистим индексы в массиве таблиц\n",
        "normalize_dfs = []\n",
        "first_index = 0\n",
        "\n",
        "for i, k in enumerate(filter_title_index):\n",
        "    for j, q_bool in k.items():\n",
        "        if q_bool:\n",
        "            if len(filter_title_index) == i + 1:\n",
        "                normalize_dfs.extend(df2[j:])\n",
        "            else:\n",
        "                for f, b_bool in filter_title_index[i+1].items():\n",
        "                    normalize_dfs.extend(df2[j:f])"
      ],
      "metadata": {
        "id": "6vmgydgMqGoi"
      },
      "execution_count": null,
      "outputs": []
    },
    {
      "cell_type": "code",
      "source": [
        "len(normalize_dfs)"
      ],
      "metadata": {
        "colab": {
          "base_uri": "https://localhost:8080/"
        },
        "id": "U9JiDJuJwPW0",
        "outputId": "919521a1-8ad3-48c4-e4b0-d399ba712dd2"
      },
      "execution_count": null,
      "outputs": [
        {
          "output_type": "execute_result",
          "data": {
            "text/plain": [
              "11"
            ]
          },
          "metadata": {},
          "execution_count": 16
        }
      ]
    },
    {
      "cell_type": "code",
      "source": [
        "len(df2)"
      ],
      "metadata": {
        "colab": {
          "base_uri": "https://localhost:8080/"
        },
        "id": "cJ7hpOphwfem",
        "outputId": "b7f6ba69-333f-402f-cbe2-95bc4e2c0441"
      },
      "execution_count": null,
      "outputs": [
        {
          "output_type": "execute_result",
          "data": {
            "text/plain": [
              "11"
            ]
          },
          "metadata": {},
          "execution_count": 17
        }
      ]
    },
    {
      "cell_type": "markdown",
      "source": [
        "#ШАГ 2 - Привожу к одному виду"
      ],
      "metadata": {
        "id": "EIaoUuWFwtEH"
      }
    },
    {
      "cell_type": "code",
      "source": [
        "final_own = pd.DataFrame()"
      ],
      "metadata": {
        "id": "wdsh6w6uO10m"
      },
      "execution_count": null,
      "outputs": []
    },
    {
      "cell_type": "code",
      "source": [
        "# Определяем по типу как действовать (лучше проверить по len)\n",
        "\n",
        "for i in normalize_dfs:\n",
        "    final_df = pd.DataFrame()\n",
        "\n",
        "    i = i.drop(0)\n",
        "    # Отрабатываем тип 0 таблицы\n",
        "    if len(i.columns) == ID_2023 + 3:\n",
        "        final_df[\"Наименование\"] = i[NAMES_ID]\n",
        "        if len(CSR[0]) > 1:\n",
        "            final_df['ЦСР'] = i.iloc[:, CSR[0]].astype(str).agg(''. join , axis= 1) \n",
        "        else:\n",
        "            final_df[\"ЦСР\"] = i[CSR[0]]\n",
        "        final_df[\"ВР\"] = i[VR]\n",
        "        final_df[\"2023\"] = i[ID_2023]\n",
        "        final_df[\"2024\"] = i[ID_2024]\n",
        "        final_df[\"2025\"] = i[ID_2025]\n",
        "\n",
        "\n",
        "    # Отрабатываем тип 1 таблицы\n",
        "    elif len(i.columns) == ID_2023 + 2:\n",
        "        final_df[\"Наименование\"] = i[NAMES_ID]\n",
        "        if len(CSR[1]) > 1:\n",
        "            final_df['ЦСР'] = i.iloc[:, CSR[1]].astype(str).agg(''. join , axis= 1) \n",
        "        else:\n",
        "            final_df[\"ЦСР\"] = i[CSR[1]]\n",
        "        final_df[\"ВР\"] = i[VR]\n",
        "        final_df[\"2024\"] = i[ID_2024]\n",
        "        final_df[\"2025\"] = i[ID_2025]\n",
        "\n",
        "    elif len(i.columns) == ID_2023 + 1:\n",
        "        final_df[\"Наименование\"] = i[NAMES_ID]\n",
        "        if len(CSR[1]) > 1:\n",
        "            final_df['ЦСР'] = i.iloc[:, CSR[0]].astype(str).agg(''. join , axis= 1) \n",
        "        else:\n",
        "            final_df[\"ЦСР\"] = i[CSR[0]]\n",
        "        final_df[\"ВР\"] = i[VR]\n",
        "        final_df[\"2023\"] = i[ID_2023]\n",
        "\n",
        "        \n",
        "    \n",
        "    #Обновляем df\n",
        "    final_own = pd.concat([final_own, final_df])"
      ],
      "metadata": {
        "id": "BXhGSUibM11l"
      },
      "execution_count": null,
      "outputs": []
    },
    {
      "cell_type": "code",
      "source": [
        "def delete_abrakadabra(x):\n",
        "    try:\n",
        "        x = x.strip()\n",
        "        arr = []\n",
        "        for i in x:\n",
        "            if i.isdigit():\n",
        "                arr.append(i)\n",
        "        x = \"\".join(arr)\n",
        "        return x\n",
        "    except:\n",
        "        return np.nan"
      ],
      "metadata": {
        "id": "Trr37f4fPUWm"
      },
      "execution_count": null,
      "outputs": []
    },
    {
      "cell_type": "code",
      "source": [
        "final_own['ЦСР'] = final_own['ЦСР'].apply(lambda x: delete_abrakadabra(x))"
      ],
      "metadata": {
        "id": "5wSGJfyFaQNU"
      },
      "execution_count": null,
      "outputs": []
    },
    {
      "cell_type": "code",
      "source": [
        "final_own = final_own.drop([0, 1])"
      ],
      "metadata": {
        "id": "VxT6wdRAfTpM"
      },
      "execution_count": null,
      "outputs": []
    },
    {
      "cell_type": "code",
      "source": [
        "final_own.reset_index(drop= True , inplace= True )"
      ],
      "metadata": {
        "id": "CHoFHdwGevkS"
      },
      "execution_count": null,
      "outputs": []
    },
    {
      "cell_type": "code",
      "source": [
        "final_own"
      ],
      "metadata": {
        "colab": {
          "base_uri": "https://localhost:8080/",
          "height": 423
        },
        "id": "BvcC3CTGfiBM",
        "outputId": "c045458f-7e69-4dc6-c900-4aa65adc34ac"
      },
      "execution_count": null,
      "outputs": [
        {
          "output_type": "execute_result",
          "data": {
            "text/plain": [
              "                                           Наименование  ЦСР     ВР  \\\n",
              "0                          ВОЛГОГРАДСКАЯ ОБЛАСТНАЯ ДУМА  NaN    NaN   \n",
              "1                           ОБЩЕГОСУДАРСТВЕННЫЕ ВОПРОСЫ  NaN    NaN   \n",
              "2     Функционирование законодательных (представител...  NaN    NaN   \n",
              "3     Непрограммные направления обеспечения деятельн...  900    NaN   \n",
              "4     Расходы на выплаты персоналу в целях обеспечен...  900    100   \n",
              "...                                                 ...  ...    ...   \n",
              "1282                                        ОБРАЗОВАНИЕ  NaN    NaN   \n",
              "1283  Профессиональная подготовка, переподготовка и ...  NaN    NaN   \n",
              "1284  Непрограммные расходы государственных органов ...  990    NaN   \n",
              "1285  Предоставление субсидий бюджетным, автономным ...  990  600.0   \n",
              "1286                                              Всего  NaN    NaN   \n",
              "\n",
              "               2023           2024           2025  \n",
              "0         331 966,8      307 870,4      306 206,6  \n",
              "1         331 966,8      307 870,4      306 206,6  \n",
              "2         273 676,8      252 680,4      253 016,6  \n",
              "3         273 676,8      252 680,4      253 016,6  \n",
              "4         240 678,8      223 221,0      223 221,0  \n",
              "...             ...            ...            ...  \n",
              "1282           2626            947            915  \n",
              "1283           2626            947            915  \n",
              "1284           2626            947            915  \n",
              "1285           2626            947            915  \n",
              "1286  159 970 893,9  145 677 218,1  144 081 371,9  \n",
              "\n",
              "[1287 rows x 6 columns]"
            ],
            "text/html": [
              "\n",
              "  <div id=\"df-5b4be94f-1a2b-431e-8464-3bb86b6bcf6b\">\n",
              "    <div class=\"colab-df-container\">\n",
              "      <div>\n",
              "<style scoped>\n",
              "    .dataframe tbody tr th:only-of-type {\n",
              "        vertical-align: middle;\n",
              "    }\n",
              "\n",
              "    .dataframe tbody tr th {\n",
              "        vertical-align: top;\n",
              "    }\n",
              "\n",
              "    .dataframe thead th {\n",
              "        text-align: right;\n",
              "    }\n",
              "</style>\n",
              "<table border=\"1\" class=\"dataframe\">\n",
              "  <thead>\n",
              "    <tr style=\"text-align: right;\">\n",
              "      <th></th>\n",
              "      <th>Наименование</th>\n",
              "      <th>ЦСР</th>\n",
              "      <th>ВР</th>\n",
              "      <th>2023</th>\n",
              "      <th>2024</th>\n",
              "      <th>2025</th>\n",
              "    </tr>\n",
              "  </thead>\n",
              "  <tbody>\n",
              "    <tr>\n",
              "      <th>0</th>\n",
              "      <td>ВОЛГОГРАДСКАЯ ОБЛАСТНАЯ ДУМА</td>\n",
              "      <td>NaN</td>\n",
              "      <td>NaN</td>\n",
              "      <td>331 966,8</td>\n",
              "      <td>307 870,4</td>\n",
              "      <td>306 206,6</td>\n",
              "    </tr>\n",
              "    <tr>\n",
              "      <th>1</th>\n",
              "      <td>ОБЩЕГОСУДАРСТВЕННЫЕ ВОПРОСЫ</td>\n",
              "      <td>NaN</td>\n",
              "      <td>NaN</td>\n",
              "      <td>331 966,8</td>\n",
              "      <td>307 870,4</td>\n",
              "      <td>306 206,6</td>\n",
              "    </tr>\n",
              "    <tr>\n",
              "      <th>2</th>\n",
              "      <td>Функционирование законодательных (представител...</td>\n",
              "      <td>NaN</td>\n",
              "      <td>NaN</td>\n",
              "      <td>273 676,8</td>\n",
              "      <td>252 680,4</td>\n",
              "      <td>253 016,6</td>\n",
              "    </tr>\n",
              "    <tr>\n",
              "      <th>3</th>\n",
              "      <td>Непрограммные направления обеспечения деятельн...</td>\n",
              "      <td>900</td>\n",
              "      <td>NaN</td>\n",
              "      <td>273 676,8</td>\n",
              "      <td>252 680,4</td>\n",
              "      <td>253 016,6</td>\n",
              "    </tr>\n",
              "    <tr>\n",
              "      <th>4</th>\n",
              "      <td>Расходы на выплаты персоналу в целях обеспечен...</td>\n",
              "      <td>900</td>\n",
              "      <td>100</td>\n",
              "      <td>240 678,8</td>\n",
              "      <td>223 221,0</td>\n",
              "      <td>223 221,0</td>\n",
              "    </tr>\n",
              "    <tr>\n",
              "      <th>...</th>\n",
              "      <td>...</td>\n",
              "      <td>...</td>\n",
              "      <td>...</td>\n",
              "      <td>...</td>\n",
              "      <td>...</td>\n",
              "      <td>...</td>\n",
              "    </tr>\n",
              "    <tr>\n",
              "      <th>1282</th>\n",
              "      <td>ОБРАЗОВАНИЕ</td>\n",
              "      <td>NaN</td>\n",
              "      <td>NaN</td>\n",
              "      <td>2626</td>\n",
              "      <td>947</td>\n",
              "      <td>915</td>\n",
              "    </tr>\n",
              "    <tr>\n",
              "      <th>1283</th>\n",
              "      <td>Профессиональная подготовка, переподготовка и ...</td>\n",
              "      <td>NaN</td>\n",
              "      <td>NaN</td>\n",
              "      <td>2626</td>\n",
              "      <td>947</td>\n",
              "      <td>915</td>\n",
              "    </tr>\n",
              "    <tr>\n",
              "      <th>1284</th>\n",
              "      <td>Непрограммные расходы государственных органов ...</td>\n",
              "      <td>990</td>\n",
              "      <td>NaN</td>\n",
              "      <td>2626</td>\n",
              "      <td>947</td>\n",
              "      <td>915</td>\n",
              "    </tr>\n",
              "    <tr>\n",
              "      <th>1285</th>\n",
              "      <td>Предоставление субсидий бюджетным, автономным ...</td>\n",
              "      <td>990</td>\n",
              "      <td>600.0</td>\n",
              "      <td>2626</td>\n",
              "      <td>947</td>\n",
              "      <td>915</td>\n",
              "    </tr>\n",
              "    <tr>\n",
              "      <th>1286</th>\n",
              "      <td>Всего</td>\n",
              "      <td>NaN</td>\n",
              "      <td>NaN</td>\n",
              "      <td>159 970 893,9</td>\n",
              "      <td>145 677 218,1</td>\n",
              "      <td>144 081 371,9</td>\n",
              "    </tr>\n",
              "  </tbody>\n",
              "</table>\n",
              "<p>1287 rows × 6 columns</p>\n",
              "</div>\n",
              "      <button class=\"colab-df-convert\" onclick=\"convertToInteractive('df-5b4be94f-1a2b-431e-8464-3bb86b6bcf6b')\"\n",
              "              title=\"Convert this dataframe to an interactive table.\"\n",
              "              style=\"display:none;\">\n",
              "        \n",
              "  <svg xmlns=\"http://www.w3.org/2000/svg\" height=\"24px\"viewBox=\"0 0 24 24\"\n",
              "       width=\"24px\">\n",
              "    <path d=\"M0 0h24v24H0V0z\" fill=\"none\"/>\n",
              "    <path d=\"M18.56 5.44l.94 2.06.94-2.06 2.06-.94-2.06-.94-.94-2.06-.94 2.06-2.06.94zm-11 1L8.5 8.5l.94-2.06 2.06-.94-2.06-.94L8.5 2.5l-.94 2.06-2.06.94zm10 10l.94 2.06.94-2.06 2.06-.94-2.06-.94-.94-2.06-.94 2.06-2.06.94z\"/><path d=\"M17.41 7.96l-1.37-1.37c-.4-.4-.92-.59-1.43-.59-.52 0-1.04.2-1.43.59L10.3 9.45l-7.72 7.72c-.78.78-.78 2.05 0 2.83L4 21.41c.39.39.9.59 1.41.59.51 0 1.02-.2 1.41-.59l7.78-7.78 2.81-2.81c.8-.78.8-2.07 0-2.86zM5.41 20L4 18.59l7.72-7.72 1.47 1.35L5.41 20z\"/>\n",
              "  </svg>\n",
              "      </button>\n",
              "      \n",
              "  <style>\n",
              "    .colab-df-container {\n",
              "      display:flex;\n",
              "      flex-wrap:wrap;\n",
              "      gap: 12px;\n",
              "    }\n",
              "\n",
              "    .colab-df-convert {\n",
              "      background-color: #E8F0FE;\n",
              "      border: none;\n",
              "      border-radius: 50%;\n",
              "      cursor: pointer;\n",
              "      display: none;\n",
              "      fill: #1967D2;\n",
              "      height: 32px;\n",
              "      padding: 0 0 0 0;\n",
              "      width: 32px;\n",
              "    }\n",
              "\n",
              "    .colab-df-convert:hover {\n",
              "      background-color: #E2EBFA;\n",
              "      box-shadow: 0px 1px 2px rgba(60, 64, 67, 0.3), 0px 1px 3px 1px rgba(60, 64, 67, 0.15);\n",
              "      fill: #174EA6;\n",
              "    }\n",
              "\n",
              "    [theme=dark] .colab-df-convert {\n",
              "      background-color: #3B4455;\n",
              "      fill: #D2E3FC;\n",
              "    }\n",
              "\n",
              "    [theme=dark] .colab-df-convert:hover {\n",
              "      background-color: #434B5C;\n",
              "      box-shadow: 0px 1px 3px 1px rgba(0, 0, 0, 0.15);\n",
              "      filter: drop-shadow(0px 1px 2px rgba(0, 0, 0, 0.3));\n",
              "      fill: #FFFFFF;\n",
              "    }\n",
              "  </style>\n",
              "\n",
              "      <script>\n",
              "        const buttonEl =\n",
              "          document.querySelector('#df-5b4be94f-1a2b-431e-8464-3bb86b6bcf6b button.colab-df-convert');\n",
              "        buttonEl.style.display =\n",
              "          google.colab.kernel.accessAllowed ? 'block' : 'none';\n",
              "\n",
              "        async function convertToInteractive(key) {\n",
              "          const element = document.querySelector('#df-5b4be94f-1a2b-431e-8464-3bb86b6bcf6b');\n",
              "          const dataTable =\n",
              "            await google.colab.kernel.invokeFunction('convertToInteractive',\n",
              "                                                     [key], {});\n",
              "          if (!dataTable) return;\n",
              "\n",
              "          const docLinkHtml = 'Like what you see? Visit the ' +\n",
              "            '<a target=\"_blank\" href=https://colab.research.google.com/notebooks/data_table.ipynb>data table notebook</a>'\n",
              "            + ' to learn more about interactive tables.';\n",
              "          element.innerHTML = '';\n",
              "          dataTable['output_type'] = 'display_data';\n",
              "          await google.colab.output.renderOutput(dataTable, element);\n",
              "          const docLink = document.createElement('div');\n",
              "          docLink.innerHTML = docLinkHtml;\n",
              "          element.appendChild(docLink);\n",
              "        }\n",
              "      </script>\n",
              "    </div>\n",
              "  </div>\n",
              "  "
            ]
          },
          "metadata": {},
          "execution_count": 27
        }
      ]
    },
    {
      "cell_type": "code",
      "source": [
        "final_own.to_html(\"test2.html\")"
      ],
      "metadata": {
        "id": "Z0aXwOgFfvfN"
      },
      "execution_count": null,
      "outputs": []
    }
  ]
}